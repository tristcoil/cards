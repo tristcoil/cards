{
 "cells": [
  {
   "cell_type": "code",
   "execution_count": null,
   "id": "ce31ecd4",
   "metadata": {},
   "outputs": [],
   "source": [
    "# code is in Python 3"
   ]
  },
  {
   "cell_type": "code",
   "execution_count": 1,
   "id": "422193ab",
   "metadata": {},
   "outputs": [],
   "source": [
    "# --- Card ---\n",
    "\n",
    "#card creation would best be done as class, since we are expected to run some methods on given card (that is our object)\n",
    "\n",
    "\n",
    "# Card\n",
    "#\n",
    "#            - Has two attributes, the value and rank\n",
    "#\n",
    "#            - There are 4 supported suits - spades, hearts, diamonds, clubs.\n",
    "#\n",
    "#            - Each of the following suits (spade, heart, diamond, and club) has one of 13 possible ranks: ace, 2, 3, 4, 5, 6, 7, 8, 9, 10, jack, queen, or king. Ranks are not duplicated within a suit. Ace is the lowest rank with king being highest rank.\n",
    "#\n",
    "#            - The 'special' suit Joker does not need to be supported, but there may be a future requirement to include it. Please consider this in your design.\n",
    "#\n",
    "#            - Supports the following contract\n",
    "#\n",
    "#                  - [S] suit() : returns the suit of this card, with [S] being the type you used in defining suit. For example, it could be an integer or an instance of a class of your own creation.\n",
    "#\n",
    "#                  - int value() : returns the value, which is one of the numbers 1 through 13, inclusive for a regular card.\n",
    "#\n",
    "#                 - String suitAsString() : Returns a String representation of the card's suit. (\"Spades\", \"Clubs\")\n",
    "#\n",
    "#                  - String valueAsString() : Returns a String representation of the card's value (e.g. \"Ace\", \"2\")\n",
    "#\n",
    "#                  - String toString() : Returns a string representation of this card, including both its suit and its value. (e.g. \"Queen of Hearts\", \"10 of Diamonds\")\n",
    "\n",
    "\n",
    "\n",
    "#Notes: value means suit, rank is 2 for example\n",
    "#ex\n",
    "#value: hearts\n",
    "#rank:  2    \n",
    "\n",
    "#value: spades\n",
    "#rank:  queen    \n"
   ]
  },
  {
   "cell_type": "code",
   "execution_count": 82,
   "id": "a6b3248a",
   "metadata": {},
   "outputs": [],
   "source": [
    "import random"
   ]
  },
  {
   "cell_type": "code",
   "execution_count": 23,
   "id": "f8fc6de5",
   "metadata": {},
   "outputs": [],
   "source": [
    "suits = {'spades': 0, 'hearts': 1, 'diamonds': 2, 'clubs': 3}\n",
    "\n",
    "ranks = {'ace':    1,\n",
    "         '2':      2,\n",
    "         '3':      3,\n",
    "         '4':      4,\n",
    "         '5':      5,\n",
    "         '6':      6,\n",
    "         '7':      7,\n",
    "         '8':      8,\n",
    "         '9':      9,\n",
    "         '10':    10,\n",
    "         'jack':  11,\n",
    "         'queen': 12,\n",
    "         'king':  13\n",
    "        }\n",
    "        #'joker': None}\n"
   ]
  },
  {
   "cell_type": "code",
   "execution_count": 46,
   "id": "e448d8df",
   "metadata": {},
   "outputs": [
    {
     "data": {
      "text/plain": [
       "13"
      ]
     },
     "execution_count": 46,
     "metadata": {},
     "output_type": "execute_result"
    }
   ],
   "source": [
    "ranks['king']"
   ]
  },
  {
   "cell_type": "code",
   "execution_count": null,
   "id": "fdf04957",
   "metadata": {},
   "outputs": [],
   "source": []
  },
  {
   "cell_type": "code",
   "execution_count": 25,
   "id": "53a7f322",
   "metadata": {},
   "outputs": [],
   "source": [
    "# class creation source:\n",
    "# https://www.tutorialspoint.com/python3/python_classes_objects.htm\n",
    "\n",
    "# troubleshooting\n",
    "# https://careerkarma.com/blog/python-typeerror-str-object-is-not-callable/\n",
    "\n",
    "# array randomization\n",
    "# https://stackoverflow.com/questions/473973/shuffle-an-array-with-python-randomize-array-item-order-with-python\n",
    "\n",
    "# Note: ve had to redefine value var to _value since it was in conflict with name of our method value()"
   ]
  },
  {
   "cell_type": "code",
   "execution_count": 59,
   "id": "1b3925cc",
   "metadata": {},
   "outputs": [],
   "source": [
    "# init like card1 = Card('hearts', 'ace')\n",
    "class Card():\n",
    "    \n",
    "    def __init__(self, _value, rank):\n",
    "        self._value = _value     # hearts\n",
    "        self.rank  = rank      # ace\n",
    "        print('self._value:', self._value)\n",
    "        print('self.rank:', self.rank)\n",
    "        \n",
    "    def suit(self):\n",
    "        'returns integer from lookup hash table called suits'\n",
    "        \n",
    "        return suits[self._value]\n",
    "    \n",
    "    def value(self):\n",
    "        #print('self.rank', self.rank)\n",
    "        #print('ranks[self.rank]', ranks[self.rank])\n",
    "        return ranks[str(self.rank)]\n",
    "    \n",
    "    \n",
    "    def suitAsString(self):\n",
    "        'gives suit as a string - \"spades\", \"clubs\"'\n",
    "        return str(self._value)\n",
    "    \n",
    "    def valueAsString(self):\n",
    "        'gives string representation of value: ace, 2, queen'\n",
    "        return str(self.rank)\n",
    "    \n",
    "    def toString(self):\n",
    "        return str(self.rank) + ' of ' + str(self._value)\n",
    "        \n",
    "    \n",
    "    "
   ]
  },
  {
   "cell_type": "code",
   "execution_count": 60,
   "id": "0cb3aac9",
   "metadata": {},
   "outputs": [
    {
     "name": "stdout",
     "output_type": "stream",
     "text": [
      "self._value: hearts\n",
      "self.rank: ace\n"
     ]
    }
   ],
   "source": [
    "card1 = Card('hearts','ace')"
   ]
  },
  {
   "cell_type": "code",
   "execution_count": 61,
   "id": "8c415666",
   "metadata": {},
   "outputs": [
    {
     "data": {
      "text/plain": [
       "1"
      ]
     },
     "execution_count": 61,
     "metadata": {},
     "output_type": "execute_result"
    }
   ],
   "source": [
    "card1.suit()"
   ]
  },
  {
   "cell_type": "code",
   "execution_count": 62,
   "id": "5dea96db",
   "metadata": {},
   "outputs": [
    {
     "data": {
      "text/plain": [
       "1"
      ]
     },
     "execution_count": 62,
     "metadata": {},
     "output_type": "execute_result"
    }
   ],
   "source": [
    "card1.value()"
   ]
  },
  {
   "cell_type": "code",
   "execution_count": 63,
   "id": "13c57c13",
   "metadata": {},
   "outputs": [
    {
     "data": {
      "text/plain": [
       "'hearts'"
      ]
     },
     "execution_count": 63,
     "metadata": {},
     "output_type": "execute_result"
    }
   ],
   "source": [
    "card1.suitAsString()"
   ]
  },
  {
   "cell_type": "code",
   "execution_count": 64,
   "id": "58119c6f",
   "metadata": {},
   "outputs": [
    {
     "data": {
      "text/plain": [
       "'ace'"
      ]
     },
     "execution_count": 64,
     "metadata": {},
     "output_type": "execute_result"
    }
   ],
   "source": [
    "card1.valueAsString()"
   ]
  },
  {
   "cell_type": "code",
   "execution_count": 66,
   "id": "3034e533",
   "metadata": {},
   "outputs": [
    {
     "data": {
      "text/plain": [
       "'ace of hearts'"
      ]
     },
     "execution_count": 66,
     "metadata": {},
     "output_type": "execute_result"
    }
   ],
   "source": [
    "card1.toString()"
   ]
  },
  {
   "cell_type": "code",
   "execution_count": null,
   "id": "d64b8855",
   "metadata": {},
   "outputs": [],
   "source": []
  },
  {
   "cell_type": "code",
   "execution_count": null,
   "id": "b9186d6b",
   "metadata": {},
   "outputs": [],
   "source": [
    "# --- DECK ---\n",
    "# also needs to be a class of some sorts"
   ]
  },
  {
   "cell_type": "code",
   "execution_count": 113,
   "id": "79899087",
   "metadata": {},
   "outputs": [],
   "source": [
    "class Deck():\n",
    "    \n",
    "    # initialization of new deck\n",
    "    remainingCards = 52\n",
    "    deckCards = []\n",
    "    \n",
    "    def __init__(self):\n",
    "        'inits the deck'\n",
    "        # we need to init the deck with all cards somehow\n",
    "        # so the deck object would need to create all cards\n",
    "        # hence this object would need to hold or reference the card object\n",
    "        # inheritance? not likely\n",
    "        # hmm\n",
    "        \n",
    "        # well, this creates the objects, but they are not named and not sure if I can store\n",
    "        # objects in the card list (having cards in list would be conveniend for dealing them, \n",
    "        # since I could randomize an array and then call .pop() to deal that element)\n",
    "        for i in suits.keys():\n",
    "            for j in ranks.keys():\n",
    "                # lets just store possible card pairs in the list\n",
    "                # and we can create card object later if needed\n",
    "                #self.deckCards.extend([str(i),str(j)])\n",
    "                self.deckCards.append([str(i),str(j)]) # we need pairs\n",
    "                \n",
    "        print('Deck: ', self.deckCards)\n",
    "        \n",
    "        # this is how new deck looks like (for future reference)\n",
    "        self.newDeck = self.deckCards\n",
    "        \n",
    "                \n",
    "    def shuffle(self):\n",
    "        # how to randomize an array:\n",
    "        # https://stackoverflow.com/questions/473973/shuffle-an-array-with-python-randomize-array-item-order-with-python\n",
    "        \n",
    "        # shuffle only full deck\n",
    "        if self.remainingCards == 52:\n",
    "            # shuffles inplace\n",
    "            random.shuffle(self.deckCards)\n",
    "        \n",
    "        #return 'Deck shuffled'\n",
    "        return self.deckCards\n",
    "        \n",
    "    def remaining(self):\n",
    "        return self.remainingCards\n",
    "    \n",
    "    \n",
    "    def deal(self):\n",
    "        # pop from an array\n",
    "        value_rank_list = self.deckCards.pop()\n",
    "        \n",
    "        self.remainingCards = self.remainingCards - 1\n",
    "        \n",
    "        # we need to add also exception when no cards left\n",
    "        \n",
    "        # lets return card object instead of just the short list\n",
    "        mycard = Card(value_rank_list[0],value_rank_list[1])\n",
    "        \n",
    "        \n",
    "        #return value_rank_list\n",
    "        return mycard\n",
    "    \n",
    "    \n",
    "    \n",
    "    \n",
    "    \n",
    "    "
   ]
  },
  {
   "cell_type": "code",
   "execution_count": null,
   "id": "bbe838f7",
   "metadata": {},
   "outputs": [],
   "source": []
  },
  {
   "cell_type": "code",
   "execution_count": 107,
   "id": "22a9c224",
   "metadata": {},
   "outputs": [
    {
     "name": "stdout",
     "output_type": "stream",
     "text": [
      "Deck:  [['spades', 'ace'], ['spades', '2'], ['spades', '3'], ['spades', '4'], ['spades', '5'], ['spades', '6'], ['spades', '7'], ['spades', '8'], ['spades', '9'], ['spades', '10'], ['spades', 'jack'], ['spades', 'queen'], ['spades', 'king'], ['hearts', 'ace'], ['hearts', '2'], ['hearts', '3'], ['hearts', '4'], ['hearts', '5'], ['hearts', '6'], ['hearts', '7'], ['hearts', '8'], ['hearts', '9'], ['hearts', '10'], ['hearts', 'jack'], ['hearts', 'queen'], ['hearts', 'king'], ['diamonds', 'ace'], ['diamonds', '2'], ['diamonds', '3'], ['diamonds', '4'], ['diamonds', '5'], ['diamonds', '6'], ['diamonds', '7'], ['diamonds', '8'], ['diamonds', '9'], ['diamonds', '10'], ['diamonds', 'jack'], ['diamonds', 'queen'], ['diamonds', 'king'], ['clubs', 'ace'], ['clubs', '2'], ['clubs', '3'], ['clubs', '4'], ['clubs', '5'], ['clubs', '6'], ['clubs', '7'], ['clubs', '8'], ['clubs', '9'], ['clubs', '10'], ['clubs', 'jack'], ['clubs', 'queen'], ['clubs', 'king']]\n"
     ]
    }
   ],
   "source": [
    "deck1 = Deck()"
   ]
  },
  {
   "cell_type": "code",
   "execution_count": 108,
   "id": "a633726c",
   "metadata": {},
   "outputs": [
    {
     "data": {
      "text/plain": [
       "[['spades', 'jack'],\n",
       " ['spades', 'ace'],\n",
       " ['spades', '7'],\n",
       " ['spades', '10'],\n",
       " ['spades', '3'],\n",
       " ['clubs', '9'],\n",
       " ['diamonds', '8'],\n",
       " ['clubs', 'ace'],\n",
       " ['hearts', 'jack'],\n",
       " ['spades', '5'],\n",
       " ['spades', '9'],\n",
       " ['hearts', 'ace'],\n",
       " ['spades', '4'],\n",
       " ['spades', '6'],\n",
       " ['clubs', 'king'],\n",
       " ['clubs', 'queen'],\n",
       " ['clubs', '5'],\n",
       " ['hearts', '10'],\n",
       " ['hearts', '5'],\n",
       " ['diamonds', '7'],\n",
       " ['spades', 'king'],\n",
       " ['hearts', '4'],\n",
       " ['clubs', '3'],\n",
       " ['clubs', '4'],\n",
       " ['spades', '8'],\n",
       " ['diamonds', 'jack'],\n",
       " ['spades', 'queen'],\n",
       " ['hearts', 'king'],\n",
       " ['hearts', 'queen'],\n",
       " ['diamonds', 'queen'],\n",
       " ['clubs', '10'],\n",
       " ['diamonds', '2'],\n",
       " ['hearts', '8'],\n",
       " ['diamonds', '10'],\n",
       " ['hearts', '7'],\n",
       " ['hearts', '2'],\n",
       " ['diamonds', 'ace'],\n",
       " ['clubs', '8'],\n",
       " ['clubs', '6'],\n",
       " ['hearts', '9'],\n",
       " ['diamonds', '4'],\n",
       " ['clubs', '2'],\n",
       " ['diamonds', '5'],\n",
       " ['diamonds', '6'],\n",
       " ['hearts', '3'],\n",
       " ['diamonds', '9'],\n",
       " ['clubs', '7'],\n",
       " ['spades', '2'],\n",
       " ['clubs', 'jack'],\n",
       " ['hearts', '6'],\n",
       " ['diamonds', '3'],\n",
       " ['diamonds', 'king']]"
      ]
     },
     "execution_count": 108,
     "metadata": {},
     "output_type": "execute_result"
    }
   ],
   "source": [
    "deck1.shuffle()"
   ]
  },
  {
   "cell_type": "code",
   "execution_count": 109,
   "id": "13c7aee9",
   "metadata": {},
   "outputs": [
    {
     "data": {
      "text/plain": [
       "52"
      ]
     },
     "execution_count": 109,
     "metadata": {},
     "output_type": "execute_result"
    }
   ],
   "source": [
    "deck1.remaining()"
   ]
  },
  {
   "cell_type": "code",
   "execution_count": 111,
   "id": "b98c2f4a",
   "metadata": {},
   "outputs": [
    {
     "name": "stdout",
     "output_type": "stream",
     "text": [
      "self._value: diamonds\n",
      "self.rank: 3\n"
     ]
    }
   ],
   "source": [
    "dealtCard = deck1.deal()"
   ]
  },
  {
   "cell_type": "code",
   "execution_count": 112,
   "id": "93661f73",
   "metadata": {},
   "outputs": [
    {
     "data": {
      "text/plain": [
       "'3 of diamonds'"
      ]
     },
     "execution_count": 112,
     "metadata": {},
     "output_type": "execute_result"
    }
   ],
   "source": [
    "dealtCard.toString()"
   ]
  },
  {
   "cell_type": "code",
   "execution_count": null,
   "id": "a8b22a36",
   "metadata": {},
   "outputs": [],
   "source": []
  },
  {
   "cell_type": "code",
   "execution_count": null,
   "id": "0cda2241",
   "metadata": {},
   "outputs": [],
   "source": [
    "# --- HAND ---\n",
    "# will need to be similar class as above"
   ]
  },
  {
   "cell_type": "code",
   "execution_count": null,
   "id": "b5a98b35",
   "metadata": {},
   "outputs": [],
   "source": []
  },
  {
   "cell_type": "code",
   "execution_count": null,
   "id": "02e82b13",
   "metadata": {},
   "outputs": [],
   "source": []
  },
  {
   "cell_type": "code",
   "execution_count": null,
   "id": "49bc33a8",
   "metadata": {},
   "outputs": [],
   "source": []
  },
  {
   "cell_type": "code",
   "execution_count": null,
   "id": "97045717",
   "metadata": {},
   "outputs": [],
   "source": []
  },
  {
   "cell_type": "code",
   "execution_count": null,
   "id": "6d3366cb",
   "metadata": {},
   "outputs": [],
   "source": []
  },
  {
   "cell_type": "code",
   "execution_count": null,
   "id": "3a7c6e18",
   "metadata": {},
   "outputs": [],
   "source": []
  },
  {
   "cell_type": "code",
   "execution_count": null,
   "id": "f8771864",
   "metadata": {},
   "outputs": [],
   "source": []
  },
  {
   "cell_type": "code",
   "execution_count": null,
   "id": "a05d8cc2",
   "metadata": {},
   "outputs": [],
   "source": []
  },
  {
   "cell_type": "code",
   "execution_count": null,
   "id": "7a34b540",
   "metadata": {},
   "outputs": [],
   "source": []
  },
  {
   "cell_type": "code",
   "execution_count": 67,
   "id": "fdbe516f",
   "metadata": {},
   "outputs": [
    {
     "name": "stdout",
     "output_type": "stream",
     "text": [
      "spades\n",
      "hearts\n",
      "diamonds\n",
      "clubs\n"
     ]
    }
   ],
   "source": [
    "# --- OTHER ---\n",
    "# just logic tests\n",
    "for i in suits.keys():\n",
    "    print(i)"
   ]
  },
  {
   "cell_type": "code",
   "execution_count": 84,
   "id": "09ccf71c",
   "metadata": {},
   "outputs": [],
   "source": [
    "# looks like shuffles inplace\n",
    "my_arr = [1,2,3,4]\n",
    "random.shuffle(my_arr)"
   ]
  },
  {
   "cell_type": "code",
   "execution_count": 85,
   "id": "94cc0448",
   "metadata": {},
   "outputs": [
    {
     "data": {
      "text/plain": [
       "[1, 3, 4, 2]"
      ]
     },
     "execution_count": 85,
     "metadata": {},
     "output_type": "execute_result"
    }
   ],
   "source": [
    "my_arr"
   ]
  },
  {
   "cell_type": "code",
   "execution_count": null,
   "id": "8d134a29",
   "metadata": {},
   "outputs": [],
   "source": []
  },
  {
   "cell_type": "code",
   "execution_count": null,
   "id": "b373156c",
   "metadata": {},
   "outputs": [],
   "source": []
  },
  {
   "cell_type": "code",
   "execution_count": null,
   "id": "cae518c7",
   "metadata": {},
   "outputs": [],
   "source": []
  },
  {
   "cell_type": "code",
   "execution_count": null,
   "id": "fcb53a94",
   "metadata": {},
   "outputs": [],
   "source": []
  }
 ],
 "metadata": {
  "kernelspec": {
   "display_name": "Python 3 (ipykernel)",
   "language": "python",
   "name": "python3"
  },
  "language_info": {
   "codemirror_mode": {
    "name": "ipython",
    "version": 3
   },
   "file_extension": ".py",
   "mimetype": "text/x-python",
   "name": "python",
   "nbconvert_exporter": "python",
   "pygments_lexer": "ipython3",
   "version": "3.9.5"
  }
 },
 "nbformat": 4,
 "nbformat_minor": 5
}
